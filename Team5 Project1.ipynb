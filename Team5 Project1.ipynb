{
 "cells": [
  {
   "cell_type": "markdown",
   "metadata": {},
   "source": [
    "\n",
    "<p style=\"text-align: center;font-size: 18px;\">\n",
    "    BIO/MIC 494/598 <span style=\"font-weight: bold;\">Microbiome Data Science</span>\n",
    "</p>\n",
    "<p style=\"text-align: center;\"><span style=\"font-size: 32px; font-weight: bold; background-color: #ffc627;\">\n",
    "    Sequencing Data Processing\n",
    "</span></p>\n",
    "<p style=\"text-align: center; font-size: 18px;\">\n",
    "    Team 5\n",
    "</p>"
   ]
  },
  {
   "cell_type": "markdown",
   "metadata": {},
   "source": [
    "## Data files"
   ]
  },
  {
   "cell_type": "code",
   "execution_count": 22,
   "metadata": {},
   "outputs": [
    {
     "name": "stdout",
     "output_type": "stream",
     "text": [
      "Cloning into '10251'...\n",
      "remote: Enumerating objects: 7, done.\u001b[K\n",
      "remote: Counting objects: 100% (7/7), done.\u001b[K\n",
      "remote: Compressing objects: 100% (7/7), done.\u001b[K\n",
      "remote: Total 7 (delta 1), reused 0 (delta 0), pack-reused 0\u001b[K\n",
      "Unpacking objects: 100% (7/7), done.\n"
     ]
    }
   ],
   "source": [
    "! git clone https://github.com/salorain/10251.git   "
   ]
  },
  {
   "cell_type": "code",
   "execution_count": 31,
   "metadata": {},
   "outputs": [],
   "source": [
    "!cd 10251"
   ]
  },
  {
   "cell_type": "markdown",
   "metadata": {},
   "source": [
    "## From Qiita to Qiime2"
   ]
  },
  {
   "cell_type": "code",
   "execution_count": 33,
   "metadata": {},
   "outputs": [
    {
     "name": "stdout",
     "output_type": "stream",
     "text": [
      "\u001b[32mImported 58889_reference-hit.biom as BIOMV210DirFmt to 10251table.qza\u001b[0m\r\n"
     ]
    }
   ],
   "source": [
    "!qiime tools import \\\n",
    "  --input-path 58889_reference-hit.biom \\\n",
    "  --type 'FeatureTable[Frequency]' \\\n",
    "  --output-path 10251table.qza\n"
   ]
  },
  {
   "cell_type": "code",
   "execution_count": 26,
   "metadata": {},
   "outputs": [
    {
     "name": "stdout",
     "output_type": "stream",
     "text": [
      "\u001b[32mImported 58889_reference-hit.seqs.fa as DNASequencesDirectoryFormat to 10251rep-seqs.qza\u001b[0m\r\n"
     ]
    }
   ],
   "source": [
    "!qiime tools import \\\n",
    "  --input-path 58889_reference-hit.seqs.fa \\\n",
    "  --type 'FeatureData[Sequence]' \\\n",
    "  --output-path 10251rep-seqs.qza\n"
   ]
  },
  {
   "cell_type": "code",
   "execution_count": 27,
   "metadata": {
    "scrolled": true
   },
   "outputs": [
    {
     "name": "stdout",
     "output_type": "stream",
     "text": [
      "\u001b[32mImported 58889_insertion_tree.relabelled.tre as NewickDirectoryFormat to 10251rooted-tree.qza\u001b[0m\r\n"
     ]
    }
   ],
   "source": [
    "!qiime tools import \\\n",
    "  --input-path 58889_insertion_tree.relabelled.tre \\\n",
    "  --type 'Phylogeny[Rooted]' \\\n",
    "  --output-path 10251rooted-tree.qza"
   ]
  },
  {
   "cell_type": "code",
   "execution_count": 5,
   "metadata": {
    "scrolled": false
   },
   "outputs": [
    {
     "name": "stdout",
     "output_type": "stream",
     "text": [
      "\u001b[32mSaved Visualization to: 10251table.qzv\u001b[0m\n",
      "\u001b[32mSaved Visualization to: 10251rep-seqs.qzv\u001b[0m\n"
     ]
    }
   ],
   "source": [
    "!qiime feature-table summarize \\\n",
    "  --i-table 10251table.qza \\\n",
    "  --o-visualization 10251table.qzv \\\n",
    "  --m-sample-metadata-file 10251_prep_690_20201201-080233.txt\n",
    "!qiime feature-table tabulate-seqs \\\n",
    "  --i-data 10251rep-seqs.qza \\\n",
    "  --o-visualization 10251rep-seqs.qzv"
   ]
  },
  {
   "cell_type": "code",
   "execution_count": null,
   "metadata": {},
   "outputs": [],
   "source": [
    "!qiime phylogeny align-to-tree-mafft-fasttree \\\n",
    "  --i-sequences 10251rep-seqs.qza \\\n",
    "  --o-alignment aligned-rep-seqs.qza \\\n",
    "  --o-masked-alignment masked-aligned-rep-seqs.qza \\\n",
    "  --o-tree 10251unrooted-tree.qza \\\n",
    "  --o-rooted-tree 102511rooted-tree.qza"
   ]
  },
  {
   "cell_type": "markdown",
   "metadata": {},
   "source": [
    "## Taxonomic analysis"
   ]
  },
  {
   "cell_type": "code",
   "execution_count": 37,
   "metadata": {},
   "outputs": [],
   "source": [
    "!curl -sL \\\n",
    "  \"https://data.qiime2.org/2021.2/common/gg-13-8-99-515-806-nb-classifier.qza\" > \\\n",
    "  \"gg-13-8-99-515-806-nb-classifier.qza\""
   ]
  },
  {
   "cell_type": "code",
   "execution_count": 38,
   "metadata": {},
   "outputs": [
    {
     "name": "stdout",
     "output_type": "stream",
     "text": [
      "\u001b[32mSaved FeatureData[Taxonomy] to: taxonomy.qza\u001b[0m\n",
      "\u001b[32mSaved Visualization to: taxonomy.qzv\u001b[0m\n"
     ]
    }
   ],
   "source": [
    "!qiime feature-classifier classify-sklearn \\\n",
    "  --i-classifier gg-13-8-99-515-806-nb-classifier.qza \\\n",
    "  --i-reads 10251rep-seqs.qza \\\n",
    "  --o-classification taxonomy.qza\n",
    "\n",
    "!qiime metadata tabulate \\\n",
    "  --m-input-file taxonomy.qza \\\n",
    "  --o-visualization taxonomy.qzv"
   ]
  },
  {
   "cell_type": "markdown",
   "metadata": {},
   "source": [
    "# Rarefaction"
   ]
  },
  {
   "cell_type": "code",
   "execution_count": 1,
   "metadata": {},
   "outputs": [
    {
     "name": "stdout",
     "output_type": "stream",
     "text": [
      "\u001b[32mSaved FeatureTable[Frequency] to: rarefied_table.qza\u001b[0m\r\n"
     ]
    }
   ],
   "source": [
    "!qiime feature-table rarefy \\\n",
    "  --i-table 10251table.qza \\\n",
    "  --p-sampling-depth 20102 \\\n",
    "  --o-rarefied-table rarefied_table.qza"
   ]
  },
  {
   "cell_type": "markdown",
   "metadata": {},
   "source": [
    "Retained 5,849,682 (26.52%) features in 291 (98.64%) samples at the specifed sampling depth (20102)."
   ]
  },
  {
   "cell_type": "code",
   "execution_count": 3,
   "metadata": {},
   "outputs": [
    {
     "name": "stdout",
     "output_type": "stream",
     "text": [
      "\u001b[32mSaved Visualization to: rarefied_table.qzv\u001b[0m\r\n"
     ]
    }
   ],
   "source": [
    "!qiime feature-table summarize \\\n",
    "  --i-table rarefied_table.qza \\\n",
    "  --o-visualization rarefied_table.qzv \\\n",
    "  --m-sample-metadata-file 10251/10251_prep_690_20201201-080233.txt"
   ]
  },
  {
   "cell_type": "markdown",
   "metadata": {},
   "source": [
    "### Alpha and beta diversity analysis"
   ]
  },
  {
   "cell_type": "code",
   "execution_count": 5,
   "metadata": {
    "scrolled": false
   },
   "outputs": [
    {
     "name": "stdout",
     "output_type": "stream",
     "text": [
      "\u001b[32mSaved FeatureTable[Frequency] to: all_in_one/rarefied_table.qza\u001b[0m\n",
      "\u001b[32mSaved SampleData[AlphaDiversity] to: all_in_one/faith_pd_vector.qza\u001b[0m\n",
      "\u001b[32mSaved SampleData[AlphaDiversity] to: all_in_one/observed_features_vector.qza\u001b[0m\n",
      "\u001b[32mSaved SampleData[AlphaDiversity] to: all_in_one/shannon_vector.qza\u001b[0m\n",
      "\u001b[32mSaved SampleData[AlphaDiversity] to: all_in_one/evenness_vector.qza\u001b[0m\n",
      "\u001b[32mSaved DistanceMatrix to: all_in_one/unweighted_unifrac_distance_matrix.qza\u001b[0m\n",
      "\u001b[32mSaved DistanceMatrix to: all_in_one/weighted_unifrac_distance_matrix.qza\u001b[0m\n",
      "\u001b[32mSaved DistanceMatrix to: all_in_one/jaccard_distance_matrix.qza\u001b[0m\n",
      "\u001b[32mSaved DistanceMatrix to: all_in_one/bray_curtis_distance_matrix.qza\u001b[0m\n",
      "\u001b[32mSaved PCoAResults to: all_in_one/unweighted_unifrac_pcoa_results.qza\u001b[0m\n",
      "\u001b[32mSaved PCoAResults to: all_in_one/weighted_unifrac_pcoa_results.qza\u001b[0m\n",
      "\u001b[32mSaved PCoAResults to: all_in_one/jaccard_pcoa_results.qza\u001b[0m\n",
      "\u001b[32mSaved PCoAResults to: all_in_one/bray_curtis_pcoa_results.qza\u001b[0m\n",
      "\u001b[32mSaved Visualization to: all_in_one/unweighted_unifrac_emperor.qzv\u001b[0m\n",
      "\u001b[32mSaved Visualization to: all_in_one/weighted_unifrac_emperor.qzv\u001b[0m\n",
      "\u001b[32mSaved Visualization to: all_in_one/jaccard_emperor.qzv\u001b[0m\n",
      "\u001b[32mSaved Visualization to: all_in_one/bray_curtis_emperor.qzv\u001b[0m\n"
     ]
    }
   ],
   "source": [
    "!qiime diversity core-metrics-phylogenetic \\\n",
    "  --i-phylogeny 102511rooted-tree.qza \\\n",
    "  --i-table 10251table.qza \\\n",
    "  --p-sampling-depth 20102 \\\n",
    "  --m-metadata-file 10251/10251_prep_690_20201201-080233.txt \\\n",
    "  --output-dir all_in_one"
   ]
  },
  {
   "cell_type": "markdown",
   "metadata": {},
   "source": [
    "## Faith Phylogenetic Diversity"
   ]
  },
  {
   "cell_type": "code",
   "execution_count": 8,
   "metadata": {},
   "outputs": [
    {
     "name": "stdout",
     "output_type": "stream",
     "text": [
      "\u001b[32mSaved Visualization to: core-metrics-results/faith-pd-group-significance.qzv\u001b[0m\r\n"
     ]
    }
   ],
   "source": [
    "!qiime diversity alpha-group-significance \\\n",
    "  --i-alpha-diversity core-metrics-results/faith_pd_vector.qza \\\n",
    "  --m-metadata-file 10251_prep_690_20201201-080233.txt \\\n",
    "  --o-visualization core-metrics-results/faith-pd-group-significance.qzv"
   ]
  },
  {
   "cell_type": "markdown",
   "metadata": {},
   "source": [
    "phylogeny-informed alpha diversity using the Faith's PD metric"
   ]
  },
  {
   "cell_type": "code",
   "execution_count": 8,
   "metadata": {},
   "outputs": [
    {
     "name": "stdout",
     "output_type": "stream",
     "text": [
      "\u001b[32mSaved SampleData[AlphaDiversity] to: faith_pd_vector.qza\u001b[0m\r\n"
     ]
    }
   ],
   "source": [
    "!qiime diversity alpha-phylogenetic \\\n",
    "  --i-table rarefied_table.qza \\\n",
    "  --i-phylogeny 102511rooted-tree.qza \\\n",
    "  --p-metric faith_pd \\\n",
    "  --o-alpha-diversity faith_pd_vector.qza"
   ]
  },
  {
   "cell_type": "markdown",
   "metadata": {},
   "source": [
    "#### Evenness metrics"
   ]
  },
  {
   "cell_type": "code",
   "execution_count": 9,
   "metadata": {
    "scrolled": true
   },
   "outputs": [
    {
     "name": "stdout",
     "output_type": "stream",
     "text": [
      "\u001b[32mSaved Visualization to: core-metrics-results/evenness-group-significance.qzv\u001b[0m\r\n"
     ]
    }
   ],
   "source": [
    "!qiime diversity alpha-group-significance \\\n",
    "  --i-alpha-diversity core-metrics-results/evenness_vector.qza \\\n",
    "  --m-metadata-file 10251_prep_690_20201201-080233.txt \\\n",
    "  --o-visualization core-metrics-results/evenness-group-significance.qzv"
   ]
  },
  {
   "cell_type": "markdown",
   "metadata": {},
   "source": [
    "### Beta Diversity using unweighted UniFrac distances for expermint title (Utilities from A to E )"
   ]
  },
  {
   "cell_type": "code",
   "execution_count": 10,
   "metadata": {},
   "outputs": [
    {
     "name": "stdout",
     "output_type": "stream",
     "text": [
      "\u001b[32mSaved Visualization to: core-metrics-results/unweighted-unifrac-expermint-title-significance.qzv\u001b[0m\r\n"
     ]
    }
   ],
   "source": [
    "!qiime diversity beta-group-significance   \\\n",
    "  --i-distance-matrix core-metrics-results/unweighted_unifrac_distance_matrix.qza   \\\n",
    "  --m-metadata-file 10251_prep_690_20201201-080233.txt   --m-metadata-column experiment_title   \\\n",
    "  --o-visualization core-metrics-results/unweighted-unifrac-expermint-title-significance.qzv   \\\n",
    "  --p-pairwise"
   ]
  },
  {
   "cell_type": "markdown",
   "metadata": {},
   "source": [
    "#### Alpha group significance"
   ]
  },
  {
   "cell_type": "code",
   "execution_count": 10,
   "metadata": {},
   "outputs": [
    {
     "name": "stdout",
     "output_type": "stream",
     "text": [
      "Saved Visualization to: observed_features_group_significance.qzv\n",
      "Saved Visualization to: shannon_group_significance.qzv\n",
      "Saved Visualization to: pielou_e_group_significance.qzv\n",
      "Saved Visualization to: faith_pd_group_significance.qzv\n"
     ]
    }
   ],
   "source": [
    "%%bash\n",
    "for metric in observed_features shannon pielou_e faith_pd\n",
    "do\n",
    "  qiime diversity alpha-group-significance \\\n",
    "    --i-alpha-diversity ${metric}_vector.qza \\\n",
    "    --m-metadata-file 10251/10251_prep_690_20201201-080233.txt \\\n",
    "    --o-visualization ${metric}_group_significance.qzv\n",
    "done"
   ]
  },
  {
   "cell_type": "code",
   "execution_count": 6,
   "metadata": {
    "scrolled": true
   },
   "outputs": [
    {
     "name": "stdout",
     "output_type": "stream",
     "text": [
      "Saved SampleData[AlphaDiversity] to: observed_features_vector.qza\n",
      "Saved SampleData[AlphaDiversity] to: shannon_vector.qza\n",
      "Saved SampleData[AlphaDiversity] to: pielou_e_vector.qza\n"
     ]
    }
   ],
   "source": [
    "%%bash\n",
    "for metric in observed_features shannon pielou_e\n",
    "do\n",
    "  qiime diversity alpha \\\n",
    "    --i-table rarefied_table.qza \\\n",
    "    --p-metric $metric \\\n",
    "    --o-alpha-diversity ${metric}_vector.qza\n",
    "done"
   ]
  },
  {
   "cell_type": "markdown",
   "metadata": {},
   "source": [
    "#### Alpha rarefaction plotting"
   ]
  },
  {
   "cell_type": "code",
   "execution_count": 6,
   "metadata": {},
   "outputs": [
    {
     "name": "stdout",
     "output_type": "stream",
     "text": [
      "\u001b[32mSaved Visualization to: alpha-rarefaction.qzv\u001b[0m\r\n"
     ]
    }
   ],
   "source": [
    "!qiime diversity alpha-rarefaction \\\n",
    "  --i-table 10251table.qza \\\n",
    "  --i-phylogeny 102511rooted-tree.qza \\\n",
    "  --p-max-depth 100000 \\\n",
    "  --m-metadata-file 10251/10251_prep_690_20201201-080233.txt \\\n",
    "  --o-visualization alpha-rarefaction.qzv"
   ]
  },
  {
   "cell_type": "markdown",
   "metadata": {},
   "source": [
    "#### Beta Diversity"
   ]
  },
  {
   "cell_type": "code",
   "execution_count": 19,
   "metadata": {},
   "outputs": [
    {
     "name": "stdout",
     "output_type": "stream",
     "text": [
      "Saved DistanceMatrix to: jaccard_distance_matrix.qza\n",
      "Saved DistanceMatrix to: braycurtis_distance_matrix.qza\n"
     ]
    }
   ],
   "source": [
    "%%bash\n",
    "for metric in jaccard braycurtis\n",
    "do\n",
    "  qiime diversity beta \\\n",
    "    --i-table rarefied_table.qza \\\n",
    "    --p-metric $metric \\\n",
    "    --o-distance-matrix ${metric}_distance_matrix.qza\n",
    "done"
   ]
  },
  {
   "cell_type": "code",
   "execution_count": 22,
   "metadata": {},
   "outputs": [
    {
     "name": "stdout",
     "output_type": "stream",
     "text": [
      "Saved DistanceMatrix to: unweighted_unifrac_distance_matrix.qza\n",
      "Saved DistanceMatrix to: weighted_unifrac_distance_matrix.qza\n"
     ]
    }
   ],
   "source": [
    "%%bash\n",
    "for metric in unweighted_unifrac weighted_unifrac\n",
    "do\n",
    "  qiime diversity beta-phylogenetic \\\n",
    "    --i-table rarefied_table.qza \\\n",
    "    --i-phylogeny 102511rooted-tree.qza \\\n",
    "    --p-metric $metric \\\n",
    "    --o-distance-matrix ${metric}_distance_matrix.qza\n",
    "done"
   ]
  },
  {
   "cell_type": "markdown",
   "metadata": {},
   "source": [
    "#### PCoA"
   ]
  },
  {
   "cell_type": "code",
   "execution_count": 23,
   "metadata": {},
   "outputs": [
    {
     "name": "stdout",
     "output_type": "stream",
     "text": [
      "Saved PCoAResults to: jaccard_pcoa_results.qza\n",
      "Saved PCoAResults to: braycurtis_pcoa_results.qza\n",
      "Saved PCoAResults to: unweighted_unifrac_pcoa_results.qza\n",
      "Saved PCoAResults to: weighted_unifrac_pcoa_results.qza\n"
     ]
    }
   ],
   "source": [
    "%%bash\n",
    "for metric in jaccard braycurtis unweighted_unifrac weighted_unifrac\n",
    "do\n",
    "  qiime diversity pcoa \\\n",
    "    --i-distance-matrix ${metric}_distance_matrix.qza \\\n",
    "    --o-pcoa ${metric}_pcoa_results.qza\n",
    "done"
   ]
  },
  {
   "cell_type": "markdown",
   "metadata": {},
   "source": [
    "#### EMPeror"
   ]
  },
  {
   "cell_type": "code",
   "execution_count": 25,
   "metadata": {},
   "outputs": [
    {
     "name": "stdout",
     "output_type": "stream",
     "text": [
      "Saved Visualization to: jaccard_emperor.qzv\n",
      "Saved Visualization to: braycurtis_emperor.qzv\n",
      "Saved Visualization to: unweighted_unifrac_emperor.qzv\n",
      "Saved Visualization to: weighted_unifrac_emperor.qzv\n"
     ]
    }
   ],
   "source": [
    "%%bash\n",
    "for metric in jaccard braycurtis unweighted_unifrac weighted_unifrac\n",
    "do\n",
    "  qiime emperor plot \\\n",
    "    --i-pcoa ${metric}_pcoa_results.qza \\\n",
    "    --m-metadata-file 10251/10251_prep_690_20201201-080233.txt \\\n",
    "    --o-visualization ${metric}_emperor.qzv\n",
    "done"
   ]
  },
  {
   "cell_type": "markdown",
   "metadata": {},
   "source": [
    "#### Time series"
   ]
  },
  {
   "cell_type": "code",
   "execution_count": 28,
   "metadata": {},
   "outputs": [
    {
     "name": "stdout",
     "output_type": "stream",
     "text": [
      "\u001b[31m\u001b[1mPlugin error from emperor:\r\n",
      "\r\n",
      "  All values in a custom axis must be numeric, this summary shows the invalid values and the number of times they were found in column 'run_date':\r\n",
      "  8/6/13     178\r\n",
      "  5/15/13    113\r\n",
      "\r\n",
      "Debug info has been saved to /var/folders/nb/_drlqg395x792y1_46fbz9lm0000gn/T/qiime2-q2cli-err-o_f13dio.log\u001b[0m\r\n"
     ]
    }
   ],
   "source": [
    "!qiime emperor plot \\\n",
    "  --i-pcoa unweighted_unifrac_pcoa_results.qza \\\n",
    "  --m-metadata-file 10251/10251_prep_690_20201201-080233.txt \\\n",
    "  --p-custom-axes run_date \\\n",
    "  --o-visualization unweighted_unifrac_emperor_time.qzv"
   ]
  },
  {
   "cell_type": "markdown",
   "metadata": {},
   "source": [
    "Did not work in our stuy case\n",
    "\n"
   ]
  },
  {
   "cell_type": "markdown",
   "metadata": {},
   "source": [
    "#### Beta rarefaction\n"
   ]
  },
  {
   "cell_type": "code",
   "execution_count": 30,
   "metadata": {},
   "outputs": [
    {
     "name": "stdout",
     "output_type": "stream",
     "text": [
      "\u001b[32mSaved Visualization to: unweighted_unifrac_rarefaction.qzv\u001b[0m\r\n"
     ]
    }
   ],
   "source": [
    "!qiime diversity beta-rarefaction \\\n",
    "  --i-table 10251table.qza \\\n",
    "  --i-phylogeny 102511rooted-tree.qza\\\n",
    "  --p-metric unweighted_unifrac \\\n",
    "  --p-clustering-method nj \\\n",
    "  --p-sampling-depth 1103 \\\n",
    "  --m-metadata-file 10251/10251_prep_690_20201201-080233.txt \\\n",
    "  --o-visualization unweighted_unifrac_rarefaction.qzv"
   ]
  },
  {
   "cell_type": "markdown",
   "metadata": {},
   "source": [
    "#### PCoA biplot"
   ]
  },
  {
   "cell_type": "code",
   "execution_count": 31,
   "metadata": {},
   "outputs": [
    {
     "name": "stdout",
     "output_type": "stream",
     "text": [
      "\u001b[32mSaved FeatureTable[RelativeFrequency] to: relative_table.qza\u001b[0m\r\n"
     ]
    }
   ],
   "source": [
    "!qiime feature-table relative-frequency \\\n",
    "  --i-table rarefied_table.qza \\\n",
    "  --o-relative-frequency-table relative_table.qza"
   ]
  },
  {
   "cell_type": "code",
   "execution_count": 32,
   "metadata": {},
   "outputs": [
    {
     "name": "stdout",
     "output_type": "stream",
     "text": [
      "\u001b[32mSaved PCoAResults % Properties('biplot') to: unweighted_unifrac_pcoa_biplot.qza\u001b[0m\r\n"
     ]
    }
   ],
   "source": [
    "!qiime diversity pcoa-biplot \\\n",
    "  --i-pcoa unweighted_unifrac_pcoa_results.qza \\\n",
    "  --i-features relative_table.qza \\\n",
    "  --o-biplot unweighted_unifrac_pcoa_biplot.qza"
   ]
  },
  {
   "cell_type": "code",
   "execution_count": 39,
   "metadata": {},
   "outputs": [
    {
     "name": "stdout",
     "output_type": "stream",
     "text": [
      "\u001b[32mSaved Visualization to: unweighted_unifrac_emperor_biplot.qzv\u001b[0m\r\n"
     ]
    }
   ],
   "source": [
    "!qiime emperor biplot \\\n",
    "  --i-biplot unweighted_unifrac_pcoa_biplot.qza \\\n",
    "  --m-sample-metadata-file 10251/10251_prep_690_20201201-080233.txt \\\n",
    "  --m-feature-metadata-file taxonomy.qza \\\n",
    "  --o-visualization unweighted_unifrac_emperor_biplot.qzv"
   ]
  },
  {
   "cell_type": "markdown",
   "metadata": {},
   "source": [
    "#### Mantel test¶\n"
   ]
  },
  {
   "cell_type": "code",
   "execution_count": 40,
   "metadata": {},
   "outputs": [
    {
     "name": "stdout",
     "output_type": "stream",
     "text": [
      "\u001b[32mSaved Visualization to: bc_vs_wu_mantel.qzv\u001b[0m\r\n"
     ]
    }
   ],
   "source": [
    "!qiime diversity mantel \\\n",
    "  --i-dm1 braycurtis_distance_matrix.qza \\\n",
    "  --i-dm2 weighted_unifrac_distance_matrix.qza \\\n",
    "  --o-visualization bc_vs_wu_mantel.qzv"
   ]
  },
  {
   "cell_type": "markdown",
   "metadata": {},
   "source": [
    "#### Procrustes analysis¶\n"
   ]
  },
  {
   "cell_type": "code",
   "execution_count": 41,
   "metadata": {},
   "outputs": [
    {
     "name": "stdout",
     "output_type": "stream",
     "text": [
      "\u001b[32mSaved PCoAResults to: braycurtis_pcoa_transformed.qza\u001b[0m\n",
      "\u001b[32mSaved PCoAResults to: weighted_unifrac_pcoa_transformed.qza\u001b[0m\n"
     ]
    }
   ],
   "source": [
    "!qiime diversity procrustes-analysis \\\n",
    "  --i-reference braycurtis_pcoa_results.qza \\\n",
    "  --i-other weighted_unifrac_pcoa_results.qza \\\n",
    "  --o-transformed-reference braycurtis_pcoa_transformed.qza \\\n",
    "  --o-transformed-other weighted_unifrac_pcoa_transformed.qza"
   ]
  },
  {
   "cell_type": "code",
   "execution_count": 43,
   "metadata": {},
   "outputs": [
    {
     "name": "stdout",
     "output_type": "stream",
     "text": [
      "\u001b[32mSaved Visualization to: bc_vs_wu_procrustes.qzv\u001b[0m\r\n"
     ]
    }
   ],
   "source": [
    "!qiime emperor procrustes-plot \\\n",
    "  --i-reference-pcoa braycurtis_pcoa_transformed.qza \\\n",
    "  --i-other-pcoa weighted_unifrac_pcoa_transformed.qza \\\n",
    "  --m-metadata-file 10251/10251_prep_690_20201201-080233.txt \\\n",
    "  --o-visualization bc_vs_wu_procrustes.qzv"
   ]
  },
  {
   "cell_type": "markdown",
   "metadata": {},
   "source": [
    "#### Group significance"
   ]
  },
  {
   "cell_type": "code",
   "execution_count": 2,
   "metadata": {},
   "outputs": [
    {
     "name": "stdout",
     "output_type": "stream",
     "text": [
      "Saved Visualization to: unweighted_unifrac_body_site_anosim.qzv\n",
      "Saved Visualization to: unweighted_unifrac_body_site_permanova.qzv\n",
      "Saved Visualization to: unweighted_unifrac_body_site_permdisp.qzv\n"
     ]
    }
   ],
   "source": [
    "%%bash\n",
    "for test in anosim permanova permdisp\n",
    "do\n",
    "  qiime diversity beta-group-significance \\\n",
    "    --i-distance-matrix unweighted_unifrac_distance_matrix.qza \\\n",
    "    --m-metadata-file 10251/10251_prep_690_20201201-080233.txt \\\n",
    "    --m-metadata-column \"experiment_title\" \\\n",
    "    --p-method $test \\\n",
    "    --o-visualization unweighted_unifrac_body_site_${test}.qzv\n",
    "done"
   ]
  },
  {
   "cell_type": "markdown",
   "metadata": {},
   "source": [
    "#### Adonis test"
   ]
  },
  {
   "cell_type": "code",
   "execution_count": 3,
   "metadata": {},
   "outputs": [],
   "source": [
    "!cat 10251/10251_prep_690_20201201-080233.txt | tr -d '-' > 10251/10251_prep_690_20201201-080233_rev.txt\n"
   ]
  },
  {
   "cell_type": "code",
   "execution_count": 6,
   "metadata": {},
   "outputs": [
    {
     "name": "stdout",
     "output_type": "stream",
     "text": [
      "\u001b[32mSaved Visualization to: unweighted_unifrac_body_site_adonis.qzv\u001b[0m\r\n"
     ]
    }
   ],
   "source": [
    "!qiime diversity adonis \\\n",
    "  --i-distance-matrix unweighted_unifrac_distance_matrix.qza \\\n",
    "  --m-metadata-file 10251/10251_prep_690_20201201-080233_rev.txt \\\n",
    "  --p-formula \"experiment_title\" \\\n",
    "  --o-visualization unweighted_unifrac_body_site_adonis.qzv"
   ]
  },
  {
   "cell_type": "markdown",
   "metadata": {},
   "source": [
    "### Extracting data from QIIME 2 results"
   ]
  },
  {
   "cell_type": "code",
   "execution_count": 20,
   "metadata": {},
   "outputs": [],
   "source": [
    "import pandas as pd"
   ]
  },
  {
   "cell_type": "code",
   "execution_count": 21,
   "metadata": {},
   "outputs": [],
   "source": [
    "from qiime2 import Metadata\n"
   ]
  },
  {
   "cell_type": "code",
   "execution_count": 22,
   "metadata": {},
   "outputs": [],
   "source": [
    "meta = Metadata.load('10251/10251_prep_690_20201201-080233.txt')\n"
   ]
  },
  {
   "cell_type": "code",
   "execution_count": 23,
   "metadata": {
    "scrolled": true
   },
   "outputs": [
    {
     "data": {
      "text/plain": [
       "Metadata\n",
       "--------\n",
       "295 IDs x 21 columns\n",
       "barcode:                       ColumnProperties(type='categorical')\n",
       "center_name:                   ColumnProperties(type='categorical')\n",
       "center_project_name:           ColumnProperties(type='categorical')\n",
       "experiment_center:             ColumnProperties(type='categorical')\n",
       "experiment_design_description: ColumnProperties(type='categorical')\n",
       "experiment_title:              ColumnProperties(type='categorical')\n",
       "instrument_model:              ColumnProperties(type='categorical')\n",
       "library_construction_protocol: ColumnProperties(type='categorical')\n",
       "linker:                        ColumnProperties(type='categorical')\n",
       "pcr_primers:                   ColumnProperties(type='categorical')\n",
       "platform:                      ColumnProperties(type='categorical')\n",
       "primer:                        ColumnProperties(type='categorical')\n",
       "qiita_prep_id:                 ColumnProperties(type='numeric')\n",
       "run_center:                    ColumnProperties(type='categorical')\n",
       "run_date:                      ColumnProperties(type='categorical')\n",
       "run_prefix:                    ColumnProperties(type='categorical')\n",
       "samp_size:                     ColumnProperties(type='categorical')\n",
       "sample_center:                 ColumnProperties(type='categorical')\n",
       "sequencing_meth:               ColumnProperties(type='categorical')\n",
       "target_gene:                   ColumnProperties(type='categorical')\n",
       "target_subfragment:            ColumnProperties(type='categorical')\n",
       "\n",
       "Call to_dataframe() for a tabular representation."
      ]
     },
     "execution_count": 23,
     "metadata": {},
     "output_type": "execute_result"
    }
   ],
   "source": [
    "meta"
   ]
  },
  {
   "cell_type": "markdown",
   "metadata": {},
   "source": [
    "## visualization"
   ]
  },
  {
   "cell_type": "code",
   "execution_count": 24,
   "metadata": {},
   "outputs": [],
   "source": [
    "from qiime2 import Visualization\n"
   ]
  },
  {
   "cell_type": "code",
   "execution_count": 25,
   "metadata": {
    "scrolled": true
   },
   "outputs": [
    {
     "data": {
      "text/html": [
       "<div>\n",
       "<style scoped>\n",
       "    .dataframe tbody tr th:only-of-type {\n",
       "        vertical-align: middle;\n",
       "    }\n",
       "\n",
       "    .dataframe tbody tr th {\n",
       "        vertical-align: top;\n",
       "    }\n",
       "\n",
       "    .dataframe thead th {\n",
       "        text-align: right;\n",
       "    }\n",
       "</style>\n",
       "<table border=\"1\" class=\"dataframe\">\n",
       "  <thead>\n",
       "    <tr style=\"text-align: right;\">\n",
       "      <th></th>\n",
       "      <th>barcode</th>\n",
       "      <th>center_name</th>\n",
       "      <th>center_project_name</th>\n",
       "      <th>experiment_center</th>\n",
       "      <th>experiment_design_description</th>\n",
       "      <th>experiment_title</th>\n",
       "      <th>instrument_model</th>\n",
       "      <th>library_construction_protocol</th>\n",
       "      <th>linker</th>\n",
       "      <th>pcr_primers</th>\n",
       "      <th>...</th>\n",
       "      <th>primer</th>\n",
       "      <th>qiita_prep_id</th>\n",
       "      <th>run_center</th>\n",
       "      <th>run_date</th>\n",
       "      <th>run_prefix</th>\n",
       "      <th>samp_size</th>\n",
       "      <th>sample_center</th>\n",
       "      <th>sequencing_meth</th>\n",
       "      <th>target_gene</th>\n",
       "      <th>target_subfragment</th>\n",
       "    </tr>\n",
       "    <tr>\n",
       "      <th>sample_name</th>\n",
       "      <th></th>\n",
       "      <th></th>\n",
       "      <th></th>\n",
       "      <th></th>\n",
       "      <th></th>\n",
       "      <th></th>\n",
       "      <th></th>\n",
       "      <th></th>\n",
       "      <th></th>\n",
       "      <th></th>\n",
       "      <th></th>\n",
       "      <th></th>\n",
       "      <th></th>\n",
       "      <th></th>\n",
       "      <th></th>\n",
       "      <th></th>\n",
       "      <th></th>\n",
       "      <th></th>\n",
       "      <th></th>\n",
       "      <th></th>\n",
       "      <th></th>\n",
       "    </tr>\n",
       "  </thead>\n",
       "  <tbody>\n",
       "    <tr>\n",
       "      <th>10251.A.B.1.1D</th>\n",
       "      <td>TCCCTTGCTTCCT</td>\n",
       "      <td>Virginia Tech</td>\n",
       "      <td>Field Water Utility</td>\n",
       "      <td>Virginia Tech</td>\n",
       "      <td>drinking water from standardized rigs</td>\n",
       "      <td>Utility A</td>\n",
       "      <td>Illumina MiSeq</td>\n",
       "      <td>Illumina 16S V4 515f, 806rbc, EMP old protocol</td>\n",
       "      <td>GT</td>\n",
       "      <td>FWD:GTGCCAGCMGCCGCGGTAA; REV:GGACTACHVGGGTWTCTAAT</td>\n",
       "      <td>...</td>\n",
       "      <td>GTGCCAGCMGCCGCGGTAA</td>\n",
       "      <td>690.0</td>\n",
       "      <td>VBI</td>\n",
       "      <td>8/6/13</td>\n",
       "      <td>GRL2085_S34_L001_R1_001</td>\n",
       "      <td>.1,g</td>\n",
       "      <td>Virginia Tech</td>\n",
       "      <td>Sequencing by synthesis</td>\n",
       "      <td>16S rRNA</td>\n",
       "      <td>V4</td>\n",
       "    </tr>\n",
       "    <tr>\n",
       "      <th>10251.A.B.1.1W</th>\n",
       "      <td>TCCCTTGCTTCCT</td>\n",
       "      <td>Virginia Tech</td>\n",
       "      <td>Field Water Utility</td>\n",
       "      <td>Virginia Tech</td>\n",
       "      <td>drinking water from standardized rigs</td>\n",
       "      <td>Utility A</td>\n",
       "      <td>Illumina MiSeq</td>\n",
       "      <td>Illumina 16S V4 515f, 806rbc, EMP old protocol</td>\n",
       "      <td>GT</td>\n",
       "      <td>FWD:GTGCCAGCMGCCGCGGTAA; REV:GGACTACHVGGGTWTCTAAT</td>\n",
       "      <td>...</td>\n",
       "      <td>GTGCCAGCMGCCGCGGTAA</td>\n",
       "      <td>690.0</td>\n",
       "      <td>VBI</td>\n",
       "      <td>8/6/13</td>\n",
       "      <td>GRL2055_S4_L001_R1_001</td>\n",
       "      <td>.1,g</td>\n",
       "      <td>Virginia Tech</td>\n",
       "      <td>Sequencing by synthesis</td>\n",
       "      <td>16S rRNA</td>\n",
       "      <td>V4</td>\n",
       "    </tr>\n",
       "    <tr>\n",
       "      <th>10251.A.B.1.2D</th>\n",
       "      <td>TCCCTTGCTTCCT</td>\n",
       "      <td>Virginia Tech</td>\n",
       "      <td>Field Water Utility</td>\n",
       "      <td>Virginia Tech</td>\n",
       "      <td>drinking water from standardized rigs</td>\n",
       "      <td>Utility A</td>\n",
       "      <td>Illumina MiSeq</td>\n",
       "      <td>Illumina 16S V4 515f, 806rbc, EMP old protocol</td>\n",
       "      <td>GT</td>\n",
       "      <td>FWD:GTGCCAGCMGCCGCGGTAA; REV:GGACTACHVGGGTWTCTAAT</td>\n",
       "      <td>...</td>\n",
       "      <td>GTGCCAGCMGCCGCGGTAA</td>\n",
       "      <td>690.0</td>\n",
       "      <td>VBI</td>\n",
       "      <td>8/6/13</td>\n",
       "      <td>GRL2095_S44_L001_R1_001</td>\n",
       "      <td>.1,g</td>\n",
       "      <td>Virginia Tech</td>\n",
       "      <td>Sequencing by synthesis</td>\n",
       "      <td>16S rRNA</td>\n",
       "      <td>V4</td>\n",
       "    </tr>\n",
       "    <tr>\n",
       "      <th>10251.A.B.1.2W</th>\n",
       "      <td>TCCCTTGCTTCCT</td>\n",
       "      <td>Virginia Tech</td>\n",
       "      <td>Field Water Utility</td>\n",
       "      <td>Virginia Tech</td>\n",
       "      <td>drinking water from standardized rigs</td>\n",
       "      <td>Utility A</td>\n",
       "      <td>Illumina MiSeq</td>\n",
       "      <td>Illumina 16S V4 515f, 806rbc, EMP old protocol</td>\n",
       "      <td>GT</td>\n",
       "      <td>FWD:GTGCCAGCMGCCGCGGTAA; REV:GGACTACHVGGGTWTCTAAT</td>\n",
       "      <td>...</td>\n",
       "      <td>GTGCCAGCMGCCGCGGTAA</td>\n",
       "      <td>690.0</td>\n",
       "      <td>VBI</td>\n",
       "      <td>8/6/13</td>\n",
       "      <td>GRL2065_S14_L001_R1_001</td>\n",
       "      <td>.1,g</td>\n",
       "      <td>Virginia Tech</td>\n",
       "      <td>Sequencing by synthesis</td>\n",
       "      <td>16S rRNA</td>\n",
       "      <td>V4</td>\n",
       "    </tr>\n",
       "    <tr>\n",
       "      <th>10251.A.B.1.3D</th>\n",
       "      <td>TCCCTTGCTTCCT</td>\n",
       "      <td>Virginia Tech</td>\n",
       "      <td>Field Water Utility</td>\n",
       "      <td>Virginia Tech</td>\n",
       "      <td>drinking water from standardized rigs</td>\n",
       "      <td>Utility A</td>\n",
       "      <td>Illumina MiSeq</td>\n",
       "      <td>Illumina 16S V4 515f, 806rbc, EMP old protocol</td>\n",
       "      <td>GT</td>\n",
       "      <td>FWD:GTGCCAGCMGCCGCGGTAA; REV:GGACTACHVGGGTWTCTAAT</td>\n",
       "      <td>...</td>\n",
       "      <td>GTGCCAGCMGCCGCGGTAA</td>\n",
       "      <td>690.0</td>\n",
       "      <td>VBI</td>\n",
       "      <td>8/6/13</td>\n",
       "      <td>GRL2105_S54_L001_R1_001</td>\n",
       "      <td>.1,g</td>\n",
       "      <td>Virginia Tech</td>\n",
       "      <td>Sequencing by synthesis</td>\n",
       "      <td>16S rRNA</td>\n",
       "      <td>V4</td>\n",
       "    </tr>\n",
       "  </tbody>\n",
       "</table>\n",
       "<p>5 rows × 21 columns</p>\n",
       "</div>"
      ],
      "text/plain": [
       "                      barcode    center_name  center_project_name  \\\n",
       "sample_name                                                         \n",
       "10251.A.B.1.1D  TCCCTTGCTTCCT  Virginia Tech  Field Water Utility   \n",
       "10251.A.B.1.1W  TCCCTTGCTTCCT  Virginia Tech  Field Water Utility   \n",
       "10251.A.B.1.2D  TCCCTTGCTTCCT  Virginia Tech  Field Water Utility   \n",
       "10251.A.B.1.2W  TCCCTTGCTTCCT  Virginia Tech  Field Water Utility   \n",
       "10251.A.B.1.3D  TCCCTTGCTTCCT  Virginia Tech  Field Water Utility   \n",
       "\n",
       "               experiment_center          experiment_design_description  \\\n",
       "sample_name                                                               \n",
       "10251.A.B.1.1D     Virginia Tech  drinking water from standardized rigs   \n",
       "10251.A.B.1.1W     Virginia Tech  drinking water from standardized rigs   \n",
       "10251.A.B.1.2D     Virginia Tech  drinking water from standardized rigs   \n",
       "10251.A.B.1.2W     Virginia Tech  drinking water from standardized rigs   \n",
       "10251.A.B.1.3D     Virginia Tech  drinking water from standardized rigs   \n",
       "\n",
       "               experiment_title instrument_model  \\\n",
       "sample_name                                        \n",
       "10251.A.B.1.1D        Utility A   Illumina MiSeq   \n",
       "10251.A.B.1.1W        Utility A   Illumina MiSeq   \n",
       "10251.A.B.1.2D        Utility A   Illumina MiSeq   \n",
       "10251.A.B.1.2W        Utility A   Illumina MiSeq   \n",
       "10251.A.B.1.3D        Utility A   Illumina MiSeq   \n",
       "\n",
       "                                 library_construction_protocol linker  \\\n",
       "sample_name                                                             \n",
       "10251.A.B.1.1D  Illumina 16S V4 515f, 806rbc, EMP old protocol     GT   \n",
       "10251.A.B.1.1W  Illumina 16S V4 515f, 806rbc, EMP old protocol     GT   \n",
       "10251.A.B.1.2D  Illumina 16S V4 515f, 806rbc, EMP old protocol     GT   \n",
       "10251.A.B.1.2W  Illumina 16S V4 515f, 806rbc, EMP old protocol     GT   \n",
       "10251.A.B.1.3D  Illumina 16S V4 515f, 806rbc, EMP old protocol     GT   \n",
       "\n",
       "                                                      pcr_primers  ...  \\\n",
       "sample_name                                                        ...   \n",
       "10251.A.B.1.1D  FWD:GTGCCAGCMGCCGCGGTAA; REV:GGACTACHVGGGTWTCTAAT  ...   \n",
       "10251.A.B.1.1W  FWD:GTGCCAGCMGCCGCGGTAA; REV:GGACTACHVGGGTWTCTAAT  ...   \n",
       "10251.A.B.1.2D  FWD:GTGCCAGCMGCCGCGGTAA; REV:GGACTACHVGGGTWTCTAAT  ...   \n",
       "10251.A.B.1.2W  FWD:GTGCCAGCMGCCGCGGTAA; REV:GGACTACHVGGGTWTCTAAT  ...   \n",
       "10251.A.B.1.3D  FWD:GTGCCAGCMGCCGCGGTAA; REV:GGACTACHVGGGTWTCTAAT  ...   \n",
       "\n",
       "                             primer qiita_prep_id  run_center run_date  \\\n",
       "sample_name                                                              \n",
       "10251.A.B.1.1D  GTGCCAGCMGCCGCGGTAA         690.0         VBI   8/6/13   \n",
       "10251.A.B.1.1W  GTGCCAGCMGCCGCGGTAA         690.0         VBI   8/6/13   \n",
       "10251.A.B.1.2D  GTGCCAGCMGCCGCGGTAA         690.0         VBI   8/6/13   \n",
       "10251.A.B.1.2W  GTGCCAGCMGCCGCGGTAA         690.0         VBI   8/6/13   \n",
       "10251.A.B.1.3D  GTGCCAGCMGCCGCGGTAA         690.0         VBI   8/6/13   \n",
       "\n",
       "                             run_prefix samp_size  sample_center  \\\n",
       "sample_name                                                        \n",
       "10251.A.B.1.1D  GRL2085_S34_L001_R1_001      .1,g  Virginia Tech   \n",
       "10251.A.B.1.1W   GRL2055_S4_L001_R1_001      .1,g  Virginia Tech   \n",
       "10251.A.B.1.2D  GRL2095_S44_L001_R1_001      .1,g  Virginia Tech   \n",
       "10251.A.B.1.2W  GRL2065_S14_L001_R1_001      .1,g  Virginia Tech   \n",
       "10251.A.B.1.3D  GRL2105_S54_L001_R1_001      .1,g  Virginia Tech   \n",
       "\n",
       "                        sequencing_meth target_gene target_subfragment  \n",
       "sample_name                                                             \n",
       "10251.A.B.1.1D  Sequencing by synthesis    16S rRNA                 V4  \n",
       "10251.A.B.1.1W  Sequencing by synthesis    16S rRNA                 V4  \n",
       "10251.A.B.1.2D  Sequencing by synthesis    16S rRNA                 V4  \n",
       "10251.A.B.1.2W  Sequencing by synthesis    16S rRNA                 V4  \n",
       "10251.A.B.1.3D  Sequencing by synthesis    16S rRNA                 V4  \n",
       "\n",
       "[5 rows x 21 columns]"
      ]
     },
     "execution_count": 25,
     "metadata": {},
     "output_type": "execute_result"
    }
   ],
   "source": [
    "df = meta.to_dataframe()\n",
    "df.head()"
   ]
  },
  {
   "cell_type": "code",
   "execution_count": 81,
   "metadata": {},
   "outputs": [],
   "source": [
    "table_qzv = Visualization.load('10251table.qzv')"
   ]
  },
  {
   "cell_type": "markdown",
   "metadata": {},
   "source": [
    "#### Faith Phylogenetic Diversity"
   ]
  },
  {
   "cell_type": "code",
   "execution_count": 82,
   "metadata": {},
   "outputs": [],
   "source": [
    "faith_pd_group_significance = Visualization.load('core-metrics-results/faith-pd-group-significance.qzv')"
   ]
  },
  {
   "cell_type": "markdown",
   "metadata": {},
   "source": [
    "#### Rarefaction Visualization"
   ]
  },
  {
   "cell_type": "code",
   "execution_count": 83,
   "metadata": {},
   "outputs": [],
   "source": [
    "rarefied_table = Visualization.load('rarefied_table.qzv')"
   ]
  },
  {
   "cell_type": "markdown",
   "metadata": {},
   "source": [
    "#### Alpha and beta diversity analysis Visualization"
   ]
  },
  {
   "cell_type": "code",
   "execution_count": 84,
   "metadata": {},
   "outputs": [],
   "source": [
    "unweighted_unifrac_emperor = Visualization.load('all_in_one/unweighted_unifrac_emperor.qzv')"
   ]
  },
  {
   "cell_type": "code",
   "execution_count": 85,
   "metadata": {
    "scrolled": true
   },
   "outputs": [],
   "source": [
    "weighted_unifrac_emperor = Visualization.load('all_in_one/weighted_unifrac_emperor.qzv')"
   ]
  },
  {
   "cell_type": "code",
   "execution_count": 86,
   "metadata": {},
   "outputs": [],
   "source": [
    "jaccard_emperor = Visualization.load('all_in_one/jaccard_emperor.qzv')"
   ]
  },
  {
   "cell_type": "code",
   "execution_count": 87,
   "metadata": {},
   "outputs": [],
   "source": [
    "bray_curtis_emperor = Visualization.load('all_in_one/bray_curtis_emperor.qzv')"
   ]
  },
  {
   "cell_type": "markdown",
   "metadata": {},
   "source": [
    "#### Evenness metrics Visualization"
   ]
  },
  {
   "cell_type": "code",
   "execution_count": 88,
   "metadata": {},
   "outputs": [],
   "source": [
    "evenness_group_significance = Visualization.load('core-metrics-results/evenness-group-significance.qzv')"
   ]
  },
  {
   "cell_type": "markdown",
   "metadata": {},
   "source": [
    "#### Beta Diversity: unweighted UniFrac distances Visualization"
   ]
  },
  {
   "cell_type": "code",
   "execution_count": 89,
   "metadata": {},
   "outputs": [],
   "source": [
    "unweighted_unifrac_expermint_title_significance = Visualization.load('core-metrics-results/unweighted-unifrac-expermint-title-significance.qzv')"
   ]
  },
  {
   "cell_type": "markdown",
   "metadata": {},
   "source": [
    "#### Alpha group significance Visualization\n",
    " "
   ]
  },
  {
   "cell_type": "code",
   "execution_count": 90,
   "metadata": {},
   "outputs": [],
   "source": [
    "observed_features_group_significance = Visualization.load('observed_features_group_significance.qzv')"
   ]
  },
  {
   "cell_type": "code",
   "execution_count": 91,
   "metadata": {},
   "outputs": [],
   "source": [
    "shannon_group_significance = Visualization.load('shannon_group_significance.qzv')"
   ]
  },
  {
   "cell_type": "code",
   "execution_count": 92,
   "metadata": {},
   "outputs": [],
   "source": [
    "pielou_e_group_significance = Visualization.load('pielou_e_group_significance.qzv')"
   ]
  },
  {
   "cell_type": "code",
   "execution_count": 93,
   "metadata": {},
   "outputs": [],
   "source": [
    "faith_pd_group_significance = Visualization.load('faith_pd_group_significance.qzv')"
   ]
  },
  {
   "cell_type": "markdown",
   "metadata": {},
   "source": [
    "#### Alpha rarefaction plotting Visualization"
   ]
  },
  {
   "cell_type": "code",
   "execution_count": 94,
   "metadata": {},
   "outputs": [],
   "source": [
    "alpha_rarefaction = Visualization.load('alpha-rarefaction.qzv')"
   ]
  },
  {
   "cell_type": "markdown",
   "metadata": {},
   "source": [
    "#### PCoA EMPeror Visualization\n",
    " "
   ]
  },
  {
   "cell_type": "code",
   "execution_count": 95,
   "metadata": {},
   "outputs": [],
   "source": [
    "jaccard_emperor = Visualization.load('jaccard_emperor.qzv')"
   ]
  },
  {
   "cell_type": "code",
   "execution_count": 96,
   "metadata": {},
   "outputs": [],
   "source": [
    "braycurtis_emperor = Visualization.load('braycurtis_emperor.qzv')"
   ]
  },
  {
   "cell_type": "code",
   "execution_count": 97,
   "metadata": {},
   "outputs": [],
   "source": [
    "unweighted_unifrac_emperor = Visualization.load('unweighted_unifrac_emperor.qzv')"
   ]
  },
  {
   "cell_type": "code",
   "execution_count": 98,
   "metadata": {},
   "outputs": [],
   "source": [
    "weighted_unifrac_emperor = Visualization.load('weighted_unifrac_emperor.qzv')"
   ]
  },
  {
   "cell_type": "markdown",
   "metadata": {},
   "source": [
    "#### Beta rarefaction Visualization"
   ]
  },
  {
   "cell_type": "code",
   "execution_count": 99,
   "metadata": {},
   "outputs": [],
   "source": [
    "unweighted_unifrac_rarefaction = Visualization.load('unweighted_unifrac_rarefaction.qzv')"
   ]
  },
  {
   "cell_type": "markdown",
   "metadata": {},
   "source": [
    "#### PCoA biplot\n"
   ]
  },
  {
   "cell_type": "code",
   "execution_count": 100,
   "metadata": {},
   "outputs": [],
   "source": [
    "unweighted_unifrac_emperor_biplot = Visualization.load('unweighted_unifrac_emperor_biplot.qzv')"
   ]
  },
  {
   "cell_type": "markdown",
   "metadata": {},
   "source": [
    "#### Mantel test"
   ]
  },
  {
   "cell_type": "code",
   "execution_count": 101,
   "metadata": {},
   "outputs": [],
   "source": [
    "bc_vs_wu_mantel = Visualization.load('bc_vs_wu_mantel.qzv')"
   ]
  },
  {
   "cell_type": "markdown",
   "metadata": {},
   "source": [
    "#### Procrustes analysis"
   ]
  },
  {
   "cell_type": "code",
   "execution_count": 102,
   "metadata": {},
   "outputs": [],
   "source": [
    "bc_vs_wu_procrustes = Visualization.load('bc_vs_wu_procrustes.qzv')"
   ]
  }
 ],
 "metadata": {
  "kernelspec": {
   "display_name": "Python 3",
   "language": "python",
   "name": "python3"
  },
  "language_info": {
   "codemirror_mode": {
    "name": "ipython",
    "version": 3
   },
   "file_extension": ".py",
   "mimetype": "text/x-python",
   "name": "python",
   "nbconvert_exporter": "python",
   "pygments_lexer": "ipython3",
   "version": "3.6.12"
  },
  "toc": {
   "base_numbering": 1,
   "nav_menu": {},
   "number_sections": true,
   "sideBar": true,
   "skip_h1_title": false,
   "title_cell": "Table of Contents",
   "title_sidebar": "Contents",
   "toc_cell": false,
   "toc_position": {},
   "toc_section_display": true,
   "toc_window_display": false
  }
 },
 "nbformat": 4,
 "nbformat_minor": 4
}
